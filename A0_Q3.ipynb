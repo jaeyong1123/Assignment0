{
 "cells": [
  {
   "cell_type": "markdown",
   "metadata": {},
   "source": [
    "For each assignment, we will give you a link to the assignment, on this Piazza page. This will happen for each new assignment.\n",
    "\n",
    " \n",
    "\n",
    "You need to have a GitHub account in order to do the next steps.\n",
    "\n",
    " \n",
    "\n",
    "\n",
    "\n",
    " \n",
    "\n",
    "\n"
   ]
  },
  {
   "cell_type": "markdown",
   "metadata": {},
   "source": [
    "\n",
    "1- Click on the link that is given to you to accept the assignment.\n",
    "\n",
    " \n"
   ]
  },
  {
   "cell_type": "markdown",
   "metadata": {},
   "source": [
    "\n",
    "2- Then follow the instructions for getting the homework repository set up. You should now have a repository for this homework. Note that after you accept an assignment for the first time, we will send you an invite to join the classroom organization as a member. Please accept this. You will probably get an email with the invitation, but you should also see a link at the top of your main GitHub page.\n",
    "\n",
    " "
   ]
  },
  {
   "cell_type": "markdown",
   "metadata": {},
   "source": [
    "3- Next, enter the homework repository on GitHub and click “Clone or Download”. Navigate to your assignments directory on your local directory (you made this directory in class under the name CSCI 1360). You now have a copy of the code on your local device.\n",
    "\n",
    " \n",
    "\n"
   ]
  },
  {
   "cell_type": "markdown",
   "metadata": {},
   "source": [
    "4- After you make changes to the homework assignment, commit them. Commits are essentially taking a snapshot of your projects. For example, if I make changes to a code so that it prints \"Hello world\", and then commit them with an informative message, I can look at the history of my commits and view the code that I wrote at that time. If I made some more changes to the function that resulted in an error, I could go back to the commit where the code was originally working. This prevents you from creating several versions of your assignment (assignment-v1, assignment-v2, ...) or from trying to remember what your code originally looked like.\n",
    "\n",
    " \n",
    "\n",
    "Two things about committing. One, you should commit somewhat frequently. At a minimum, if you're doing a homework assignment, you should make a commit each time that you've finished a question. Two, leave informative commit messages. \"Added stuff\" will not help you if you're looking at your commit history in a year. A message like \"Added initial version of hello-world function\" will be more useful.\n"
   ]
  },
  {
   "cell_type": "markdown",
   "metadata": {},
   "source": [
    "\n",
    "5- At some point, you'll get ready to submit the completed version of the assignment back onto GitHub, so that teachers/TAs can grade them. You can do this by pushing code back. You can also do this each time after you commit."
   ]
  }
 ],
 "metadata": {
  "kernelspec": {
   "display_name": "Python 3",
   "language": "python",
   "name": "python3"
  },
  "language_info": {
   "codemirror_mode": {
    "name": "ipython",
    "version": 3
   },
   "file_extension": ".py",
   "mimetype": "text/x-python",
   "name": "python",
   "nbconvert_exporter": "python",
   "pygments_lexer": "ipython3",
   "version": "3.6.5"
  }
 },
 "nbformat": 4,
 "nbformat_minor": 2
}
