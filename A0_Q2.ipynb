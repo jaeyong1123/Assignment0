{
 "cells": [
  {
   "cell_type": "markdown",
   "metadata": {
    "nbgrader": {
     "grade": false,
     "grade_id": "q4_prompt",
     "locked": true,
     "solution": false
    }
   },
   "source": [
    "# Q2\n",
    "\n",
    "This question will walk you through the process of how a coding assignment in Jupyter will work."
   ]
  },
  {
   "cell_type": "markdown",
   "metadata": {
    "nbgrader": {
     "grade": false,
     "grade_id": "q4a_prompt",
     "locked": true,
     "solution": false
    }
   },
   "source": [
    "\n",
    "\n",
    "There's one question below--a small code snippet. Don't worry about what it does; instead, focus on the **double-quotes**.\n",
    "\n",
    "See how they're right next to each other? Put something between those quotes. Anything at all. The autograder for this question will literally look to see if there's so much as a single blank space between the quotes, and will call the answer correct. `\" \"` would be correct; so would `\"this is a lot more than just a space\"`. Make something up! But whatever you do, *don't delete the quotes*.\n",
    "\n",
    " 1. Copy the *whole* line that looks like: `instring = \"\"`\n",
    " 2. Paste it between the `BEGIN SOLUTION` and `END SOLUTION`\n",
    " 3. Put something inside the double-quotes! Anything!\n",
    " \n",
    "**Step 2 is crucial, otherwise your code will fail!**"
   ]
  },
  {
   "cell_type": "code",
   "execution_count": 1,
   "metadata": {
    "nbgrader": {
     "grade": false,
     "grade_id": "q4a",
     "locked": false,
     "solution": true
    }
   },
   "outputs": [
    {
     "name": "stdout",
     "output_type": "stream",
     "text": [
      "Here's what you wrote: Today is a nice day\n"
     ]
    }
   ],
   "source": [
    "instring = \"\"\n",
    "\n",
    "### BEGIN SOLUTION\n",
    "instring = \"Today is a nice day\"\n",
    "### END SOLUTION\n",
    "\n",
    "# IGNORE EVERYTHING BELOW THIS LINE!!! THANKS!!!\n",
    "\n",
    "def things_and_stuff(some_string):\n",
    "    return some_string\n",
    "\n",
    "out = things_and_stuff(instring)\n",
    "print(\"Here's what you wrote: {}\".format(out))"
   ]
  },
  {
   "cell_type": "code",
   "execution_count": null,
   "metadata": {
    "nbgrader": {
     "grade": true,
     "grade_id": "q4a_tests",
     "locked": true,
     "points": 20,
     "solution": false
    }
   },
   "outputs": [],
   "source": [
    "assert type(out) == str\n",
    "assert len(out) > 0"
   ]
  },
  {
   "cell_type": "code",
   "execution_count": null,
   "metadata": {},
   "outputs": [],
   "source": []
  }
 ],
 "metadata": {
  "celltoolbar": "Create Assignment",
  "kernelspec": {
   "display_name": "Python 3",
   "language": "python",
   "name": "python3"
  },
  "language_info": {
   "codemirror_mode": {
    "name": "ipython",
    "version": 3
   },
   "file_extension": ".py",
   "mimetype": "text/x-python",
   "name": "python",
   "nbconvert_exporter": "python",
   "pygments_lexer": "ipython3",
   "version": "3.7.4"
  }
 },
 "nbformat": 4,
 "nbformat_minor": 1
}
