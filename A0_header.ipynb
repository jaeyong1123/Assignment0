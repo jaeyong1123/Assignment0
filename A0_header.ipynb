{
 "cells": [
  {
   "cell_type": "markdown",
   "metadata": {
    "nbgrader": {
     "grade": false,
     "grade_id": "a0_header",
     "locked": true,
     "solution": false
    }
   },
   "source": [
    "# Assignment 0\n",
    "CSCI 1360: Foundations for Informatics and Analytics"
   ]
  },
  {
   "cell_type": "markdown",
   "metadata": {
    "nbgrader": {
     "grade": false,
     "grade_id": "a0_dates",
     "locked": true,
     "solution": false
    }
   },
   "source": [
    "## Important Dates\n",
    "\n",
    " - Released: 01/14/2020\n",
    " - Deadline: none"
   ]
  },
  {
   "cell_type": "markdown",
   "metadata": {
    "nbgrader": {
     "grade": false,
     "grade_id": "a0_overview",
     "locked": true,
     "solution": false
    }
   },
   "source": [
    "## Overview\n",
    "\n",
    "This assignment will introduce you to the basics of the infrastructure we'll be using this semester and show you how to use them. In particular, we'll walk through how to\n",
    "\n",
    " 1. Install Jupyter on on your local machine.\n",
    " 2. Install Python on your local machine.\n",
    " 3. Make a Github user account\n",
    " 4. Learn to submit (push) assignments to the class's Github Repository\n",
    "\n",
    "\n",
    "Post any questions or any technical issues in on Piazza."
   ]
  },
  {
   "cell_type": "code",
   "execution_count": null,
   "metadata": {},
   "outputs": [],
   "source": []
  }
 ],
 "metadata": {
  "celltoolbar": "Create Assignment",
  "kernelspec": {
   "display_name": "Python 3",
   "language": "python",
   "name": "python3"
  },
  "language_info": {
   "codemirror_mode": {
    "name": "ipython",
    "version": 3
   },
   "file_extension": ".py",
   "mimetype": "text/x-python",
   "name": "python",
   "nbconvert_exporter": "python",
   "pygments_lexer": "ipython3",
   "version": "3.7.4"
  }
 },
 "nbformat": 4,
 "nbformat_minor": 1
}
